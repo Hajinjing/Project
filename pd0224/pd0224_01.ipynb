{
 "cells": [
  {
   "cell_type": "code",
   "execution_count": null,
   "metadata": {},
   "outputs": [],
   "source": [
    "import pandas as pd\n",
    "\n",
    "\n",
    "\n",
    "df = pd.read_csv(\"2022-02-23_시가총액.csv\",index_col=0 )\n",
    "df = df.replace('N/A', 0)\n",
    "df = df.replace('-', '')\n",
    "df[\"PER\"] = pd.to_numeric(df['PER'], errors = 'coerce')\n",
    "\n",
    "df.info()\n",
    "print(df[df[\"PER\"]<5])"
   ]
  }
 ],
 "metadata": {
  "interpreter": {
   "hash": "5b447d6df9c5f07b9970f21d8000f5b6eb696c85ec9daf6068d8c70d22035d8b"
  },
  "kernelspec": {
   "display_name": "Python 3.10.2 64-bit ('testenv')",
   "language": "python",
   "name": "python3"
  },
  "language_info": {
   "name": "python",
   "version": "3.10.2"
  },
  "orig_nbformat": 4
 },
 "nbformat": 4,
 "nbformat_minor": 2
}
